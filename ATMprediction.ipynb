{
  "nbformat": 4,
  "nbformat_minor": 0,
  "metadata": {
    "colab": {
      "name": "ATMprediction.ipynb",
      "provenance": []
    },
    "kernelspec": {
      "name": "python3",
      "display_name": "Python 3"
    },
    "language_info": {
      "name": "python"
    }
  },
  "cells": [
    {
      "cell_type": "code",
      "execution_count": null,
      "metadata": {
        "id": "dvrHj0ie5S-W"
      },
      "outputs": [],
      "source": [
        "import pandas as pd\n",
        "import numpy as np\n",
        "import seaborn as sns\n",
        "import matplotlib.pyplot as plt\n",
        "from sklearn.preprocessing import LabelEncoder\n",
        "from sklearn.model_selection import train_test_split, cross_val_score"
      ]
    },
    {
      "cell_type": "code",
      "source": [
        "dataset=pd.read_csv(\"atm_data_final.csv\")"
      ],
      "metadata": {
        "id": "QdyM_nQO5kmT"
      },
      "execution_count": null,
      "outputs": []
    },
    {
      "cell_type": "markdown",
      "source": [
        "Data Transformation"
      ],
      "metadata": {
        "id": "T1RyT8BH5xoE"
      }
    },
    {
      "cell_type": "code",
      "source": [
        "dataset.rename(columns = {'working _day':'working_day'}, inplace = True)\n"
        "dataset.rename(columns = {'Holiday':'holiday'}, inplace = True)"
      ],
      "metadata": {
        "id": "2K8Xr0af5rzt"
      },
      "execution_count": null,
      "outputs": []
    },
    {
      "cell_type": "code",
      "source": [
        "label_encoder=LabelEncoder()\n",
        "dataset['holiday']= label_encoder.fit_transform(dataset['holiday'])\n",
        "dataset['working_day']= label_encoder.fit_transform(dataset['working_day'])\n",
        "dataset['holiday_sequence']= label_encoder.fit_transform(dataset['holiday_sequence'])"
      ],
      "metadata": {
        "id": "joZK9Ovh53NO"
      },
      "execution_count": null,
      "outputs": []
    },
    {
      "cell_type": "code",
      "source": [
        "dataset['Date']=pd.to_datetime(dataset['Date'])"
      ],
      "metadata": {
        "id": "DcdMsO8f57_n"
      },
      "execution_count": null,
      "outputs": []
    },
    {
      "cell_type": "markdown",
      "source": [
        "Model"
      ],
      "metadata": {
        "id": "34IY4SS26FOx"
      }
    },
    {
      "cell_type": "code",
      "source": [
        "from sklearn.neighbors import KNeighborsRegressor"
      ],
      "metadata": {
        "id": "cj4WWoJk6Gvs"
      },
      "execution_count": null,
      "outputs": []
    },
    {
      "cell_type": "code",
      "source": [
        "X=dataset.drop(columns = ['total_amount_withdrawn','Date','holiday_sequence','working_day'])\n",
        "Y=dataset['total_amount_withdrawn']"
      ],
      "metadata": {
        "id": "bk7TvSmP6HqB"
      },
      "execution_count": null,
      "outputs": []
    },
    {
      "cell_type": "code",
      "source": [
        "xtrain,xtest,ytrain,ytest=train_test_split(X,Y,test_size=.20)\n",
        "print(xtrain.shape,xtest.shape,ytrain.shape,ytest.shape)"
      ],
      "metadata": {
        "id": "lTkBlUfA6Md7"
      },
      "execution_count": null,
      "outputs": []
    },
    {
      "cell_type": "code",
      "source": [
        "reg = KNeighborsRegressor(n_neighbors=2)\n",
        "reg.fit(xtrain, ytrain)\n",
        "pred_values=reg.predict(xtest)"
      ],
      "metadata": {
        "id": "9wc7f-Ev6NLt"
      },
      "execution_count": null,
      "outputs": []
    },
    {
      "cell_type": "code",
      "source": [
        "import joblib\n",
        "joblib.dump(reg,'KNN.joblib')"
      ],
      "metadata": {
        "id": "Cr7BTOzH6NSe"
      },
      "execution_count": null,
      "outputs": []
    }
  ]
}
